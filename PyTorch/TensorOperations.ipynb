{
 "cells": [
  {
   "cell_type": "code",
   "execution_count": 2,
   "metadata": {},
   "outputs": [
    {
     "name": "stdout",
     "output_type": "stream",
     "text": [
      "2.4.1\n",
      "1.26.4\n",
      "[[0.97285596 0.71689575 0.92249998 0.01929544]\n",
      " [0.24148057 0.29752711 0.61897464 0.70537364]\n",
      " [0.44302459 0.19776302 0.78909429 0.0149641 ]]\n",
      "(3, 4)\n",
      "float64\n",
      "tensor([[0.4747, 0.9304, 0.2281, 0.4953],\n",
      "        [0.9643, 0.5852, 0.4753, 0.6896],\n",
      "        [0.1282, 0.2615, 0.3631, 0.1788]])\n",
      "tensor([[[0., 0., 0., 0.],\n",
      "         [0., 0., 0., 0.],\n",
      "         [0., 0., 0., 0.]],\n",
      "\n",
      "        [[0., 0., 0., 0.],\n",
      "         [0., 0., 0., 0.],\n",
      "         [0., 0., 0., 0.]]])\n",
      "tensor([[0.9729, 0.7169, 0.9225, 0.0193],\n",
      "        [0.2415, 0.2975, 0.6190, 0.7054],\n",
      "        [0.4430, 0.1978, 0.7891, 0.0150]], dtype=torch.float64)\n"
     ]
    }
   ],
   "source": [
    "\"\"\"pytorch samples\"\"\"\n",
    "import torch\n",
    "import numpy as np\n",
    "\n",
    "print(torch.__version__)\n",
    "print(np.__version__)\n",
    "\n",
    "my_list = np.random.rand(3, 4)\n",
    "print(my_list)\n",
    "print(my_list.shape)\n",
    "print(my_list.dtype)\n",
    "\n",
    "tensor = torch.rand(3, 4)\n",
    "\n",
    "print(tensor)\n",
    "\n",
    "tensor_1 = torch.zeros(2, 3, 4,)\n",
    "print(tensor_1)\n",
    "\n",
    "print(torch.tensor(my_list))\n"
   ]
  },
  {
   "cell_type": "code",
   "execution_count": 6,
   "metadata": {},
   "outputs": [
    {
     "name": "stdout",
     "output_type": "stream",
     "text": [
      "tensor([0, 1, 2, 3, 4, 5, 6, 7, 8, 9])\n",
      "tensor([[0, 1, 2, 3, 4],\n",
      "        [5, 6, 7, 8, 9]])\n"
     ]
    }
   ],
   "source": [
    "import torch\n",
    "\n",
    "my_torch = torch.arange(10)\n",
    "print(my_torch)\n",
    "my_torch = my_torch.reshape(2, 5)\n",
    "print(my_torch)"
   ]
  }
 ],
 "metadata": {
  "kernelspec": {
   "display_name": ".venv",
   "language": "python",
   "name": "python3"
  },
  "language_info": {
   "codemirror_mode": {
    "name": "ipython",
    "version": 3
   },
   "file_extension": ".py",
   "mimetype": "text/x-python",
   "name": "python",
   "nbconvert_exporter": "python",
   "pygments_lexer": "ipython3",
   "version": "3.10.11"
  }
 },
 "nbformat": 4,
 "nbformat_minor": 2
}
